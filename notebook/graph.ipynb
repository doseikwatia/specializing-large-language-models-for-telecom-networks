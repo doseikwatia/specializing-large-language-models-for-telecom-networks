{
 "cells": [
  {
   "cell_type": "code",
   "execution_count": 1,
   "metadata": {},
   "outputs": [],
   "source": [
    "%load_ext autoreload\n",
    "%autoreload 2"
   ]
  },
  {
   "cell_type": "code",
   "execution_count": 2,
   "metadata": {},
   "outputs": [],
   "source": [
    "import os\n",
    "import os.path as osp\n",
    "import sys\n",
    "ROOT_DIR = osp.dirname(os.getcwd())\n",
    "sys.path.append(ROOT_DIR)"
   ]
  },
  {
   "cell_type": "code",
   "execution_count": 3,
   "metadata": {},
   "outputs": [],
   "source": [
    "from langchain_community.graphs import Neo4jGraph\n",
    "\n",
    "os.environ[\"NEO4J_URI\"] = \"bolt://localhost:7687\"\n",
    "os.environ[\"NEO4J_USERNAME\"] = \"neo4j\"\n",
    "os.environ[\"NEO4J_PASSWORD\"] = \"graphrag\""
   ]
  },
  {
   "cell_type": "code",
   "execution_count": 4,
   "metadata": {},
   "outputs": [],
   "source": [
    "graph = Neo4jGraph()"
   ]
  },
  {
   "cell_type": "code",
   "execution_count": 5,
   "metadata": {},
   "outputs": [],
   "source": [
    "from langchain_experimental.graph_transformers import LLMGraphTransformer\n",
    "from langchain_community.llms.llamafile import Llamafile\n",
    "from lib.documents import load_documents\n",
    "from langchain_core.documents import Document"
   ]
  },
  {
   "cell_type": "code",
   "execution_count": 6,
   "metadata": {},
   "outputs": [],
   "source": [
    "DOCUMENT_PATH='../data/rel18/'"
   ]
  },
  {
   "cell_type": "code",
   "execution_count": 7,
   "metadata": {},
   "outputs": [],
   "source": [
    "# documents = load_documents(DOCUMENT_PATH)"
   ]
  },
  {
   "cell_type": "code",
   "execution_count": 8,
   "metadata": {},
   "outputs": [],
   "source": [
    "text = \"\"\"\n",
    "Marie Curie, born in 1867, was a Polish and naturalised-French physicist and chemist who conducted pioneering research on radioactivity.\n",
    "She was the first woman to win a Nobel Prize, the first person to win a Nobel Prize twice, and the only person to win a Nobel Prize in two scientific fields.\n",
    "Her husband, Pierre Curie, was a co-winner of her first Nobel Prize, making them the first-ever married couple to win the Nobel Prize and launching the Curie family legacy of five Nobel Prizes.\n",
    "She was, in 1906, the first woman to become a professor at the University of Paris.\n",
    "\"\"\"\n",
    "documents = [Document(page_content=text)]"
   ]
  },
  {
   "cell_type": "code",
   "execution_count": 9,
   "metadata": {},
   "outputs": [],
   "source": [
    "llm = Llamafile()"
   ]
  },
  {
   "cell_type": "code",
   "execution_count": 10,
   "metadata": {},
   "outputs": [],
   "source": [
    "llm_transformer = LLMGraphTransformer(llm=llm)\n",
    "graph_documents = llm_transformer.convert_to_graph_documents(documents)"
   ]
  },
  {
   "cell_type": "code",
   "execution_count": 11,
   "metadata": {},
   "outputs": [
    {
     "data": {
      "text/plain": [
       "[]"
      ]
     },
     "execution_count": 11,
     "metadata": {},
     "output_type": "execute_result"
    }
   ],
   "source": [
    "graph_documents[0].nodes"
   ]
  },
  {
   "cell_type": "code",
   "execution_count": 12,
   "metadata": {},
   "outputs": [
    {
     "data": {
      "text/plain": [
       "[]"
      ]
     },
     "execution_count": 12,
     "metadata": {},
     "output_type": "execute_result"
    }
   ],
   "source": [
    "graph_documents[0].relationships"
   ]
  },
  {
   "cell_type": "code",
   "execution_count": 13,
   "metadata": {},
   "outputs": [],
   "source": [
    "graph.add_graph_documents(graph_documents)"
   ]
  },
  {
   "cell_type": "code",
   "execution_count": 7,
   "metadata": {},
   "outputs": [],
   "source": [
    "import torch\n",
    "import gpt4all"
   ]
  },
  {
   "cell_type": "code",
   "execution_count": 10,
   "metadata": {},
   "outputs": [
    {
     "data": {
      "text/plain": [
       "['NVIDIA GeForce GTX 1080 Ti', 'NVIDIA GeForce GTX 1080 Ti (2)']"
      ]
     },
     "execution_count": 10,
     "metadata": {},
     "output_type": "execute_result"
    }
   ],
   "source": []
  },
  {
   "cell_type": "code",
   "execution_count": 4,
   "metadata": {},
   "outputs": [
    {
     "data": {
      "text/plain": [
       "_CudaDeviceProperties(name='NVIDIA GeForce GTX 1080 Ti', major=6, minor=1, total_memory=11163MB, multi_processor_count=28)"
      ]
     },
     "execution_count": 4,
     "metadata": {},
     "output_type": "execute_result"
    }
   ],
   "source": [
    "torch.cuda.get_device_properties(1)"
   ]
  },
  {
   "cell_type": "code",
   "execution_count": 1,
   "metadata": {},
   "outputs": [],
   "source": [
    "import chromadb"
   ]
  },
  {
   "cell_type": "code",
   "execution_count": 9,
   "metadata": {},
   "outputs": [],
   "source": [
    "db = chromadb.PersistentClient(path='../data/vectorstore/chromadb_512_32')"
   ]
  },
  {
   "cell_type": "code",
   "execution_count": 10,
   "metadata": {},
   "outputs": [],
   "source": [
    "col = db.get_collection('langchain')"
   ]
  },
  {
   "cell_type": "code",
   "execution_count": 11,
   "metadata": {},
   "outputs": [
    {
     "data": {
      "text/plain": [
       "432889"
      ]
     },
     "execution_count": 11,
     "metadata": {},
     "output_type": "execute_result"
    }
   ],
   "source": [
    "col.count()"
   ]
  },
  {
   "cell_type": "code",
   "execution_count": 1,
   "metadata": {},
   "outputs": [],
   "source": [
    "import pickle"
   ]
  },
  {
   "cell_type": "code",
   "execution_count": 5,
   "metadata": {},
   "outputs": [
    {
     "name": "stdout",
     "output_type": "stream",
     "text": [
      "### Instructions: \n",
      "Based on the provided context, select the correct answer from the choices given. Provide your answer in the following format: option Number: Answer.\n",
      "\n",
      "Context:\n",
      "The 5G-NR physical-layer model captures those characteristics of the 5G-NR physical-layer that are relevant from the point-of-view of higher layers. More specifically, the physical-layer model captures:. . -\tThe structure of higher-layer data being passed down to or up from the physical layer;. . -\tThe means by which higher layers can configure the physical layer;. . -\tThe different indications (error indications, channel-quality indications, etc.) that are provided by the physical layer to higher layers. –\tPhysCellIdNR. . The IE PhysCellIdNR indicates the physical layer identity (PCI) of an NR cell.. . PhysCellIdNR information element. . -- ASN1START. . . . PhysCellIdNR-r15 ::=\t\t\tINTEGER (0.. 1007). . . . -- ASN1STOP. . . . –\tPhysCellIdRange When 3GPP location field type is set to \"NR CI\", the NR CI field is set to the NR cell identity part of the NR Cell Global Identifier as defined in 3GPP TS 38.413 [14]. NR cell identity has a length 36 bits and is represented by 5 octets by zero-padding the most 4 significant bits of the 5th octet.. . . . When WLAN location field type is set to \"HESSID\", the HESSID field is set to a 6 octet MAC address that identifies the homogeneous ESS (see IEEE Std 802.11 [8]). }. . . . -- ASN1STOP. . . . –\tPhysCellId. . The IE PhysCellId is used to indicate the physical layer identity of the cell, as defined in TS 36.211 [21].. . PhysCellId information element. . -- ASN1START. . . . PhysCellId ::=\t\t\t\t\t\tINTEGER (0..503). . . . -- ASN1STOP. . . . –\tPhysCellIdCDMA2000. . The IE PhysCellIdCDMA2000 identifies the PNOffset that represents the \"Physical cell identity\" in CDMA2000.. . PhysCellIdCDMA2000 information element. . -- ASN1START. . . . PhysCellIdCDMA2000 ::=\t\t\tINTEGER (0..maxPNOffset). . . . -- ASN1STOP y\tthe second digit is incremented for all changes of substance, i.e. technical enhancements, corrections, updates, etc.. . z\tthe third digit is incremented when editorial only changes have been incorporated in the document.. . . 1\tScope. . The present document is a technical specification of the services provided by the physical layer of 5G-NR to upper layers.. . 2\tReferences. . The following documents contain provisions which, through reference in this text, constitute provisions of the present document. -\t5G-AN Protocol Layers: This set of protocols/layers depends on the AN:. . -\tin this Release, the 5G-AN is a 3GPP NR, these protocols/layers are defined in TS 38.401 [16]. The radio protocol between the UE and the 5G-AN node (gNodeB) is specified in TS 38.300 [9].. . . . Figure 8.2-3: User Plane Protocol Stack for MBS session in case of Individual delivery. . -\t5G-AN Protocol Layers: This set of protocols/layers depends on the AN: ul-srs (1) } (SIZE (1..8)),. . \t...,. . \t[[. . \tnr-on-demand-DL-PRS-Request-r17\t\t\t\tNR-On-Demand-DL-PRS-Request-r17\t\t\tOPTIONAL,. . \tnr-DL-PRS-ExpectedAoD-or-AoA-Request-r17\tENUMERATED { eAoD, eAoA }\t\t\t\tOPTIONAL,. . \tpre-configured-AssistanceDataRequest-r17\tENUMERATED { true }\t\t\t\t\t\tOPTIONAL. . \t]]. . }. . . . -- ASN1STOP. . . . NR-Multi-RTT-RequestAssistanceData field descriptions. . nr-PhysCellID. . This field specifies the NR physical cell identity of the current primary cell of the target device.. . nr-AdType\n",
      "\n",
      "Question:\n",
      "What are the physical-layer cell identities for 5G NR? [3GPP Release 17]\n",
      "Choices:\n",
      "option 1: There are 256 unique physical-layer cell identities.\n",
      "option 2: There are 504 unique physical-layer cell identities.\n",
      "option 3: There are 720 unique physical-layer cell identities.\n",
      "option 4: There are 1008 unique physical-layer cell identities.\n",
      "\n",
      "### Answer:\n"
     ]
    }
   ],
   "source": [
    "with open('../bin/pickle/inference_testing_prompt.pkl','r+b') as f:\n",
    "    prompt = pickle.load(f)\n",
    "print(prompt[0][1])"
   ]
  },
  {
   "cell_type": "code",
   "execution_count": 2,
   "metadata": {},
   "outputs": [],
   "source": [
    "with open('../bin/pickle/finetuning_datalist.pkl','r+b') as f:\n",
    "    prompt = pickle.load(f)"
   ]
  },
  {
   "cell_type": "code",
   "execution_count": 4,
   "metadata": {},
   "outputs": [
    {
     "name": "stdout",
     "output_type": "stream",
     "text": [
      "### Instructions: \n",
      "Based on the provided context, answer the question.\n",
      "\n",
      "Context:\n",
      "4.2.2.3.1\tGeneral. . The Nmfaf_3daDataManagement_Deconfigure service operation is used by an NF service consumer to stop mapping data or analytics received by the MFAF to one or more out-bound notification endpoints.. . 4.2.2.3.2\tStop mapping data or analytics . . Figure 4.2.2.3.2-1 shows a scenario where the NF service consumer sends a request to the MFAF to update the configuration to stop mapping data or analytics (as shown in 3GPP TS 23.288 [14])\n",
      "\n",
      "Question:\n",
      "What is the purpose of the Nmfaf_3daDataManagement_Deconfigure service operation? [3GPP Release 18]\n",
      "\n",
      "### Answer:\n",
      "The Nmfaf_3daDataManagement_Deconfigure service operation is used to stop mapping data or analytics received by the MFAF to one or more out-bound notification endpoints.\n",
      "\n"
     ]
    }
   ],
   "source": [
    "print(prompt[0]['prompt'])"
   ]
  },
  {
   "cell_type": "code",
   "execution_count": null,
   "metadata": {},
   "outputs": [],
   "source": []
  }
 ],
 "metadata": {
  "kernelspec": {
   "display_name": "yolo",
   "language": "python",
   "name": "python3"
  },
  "language_info": {
   "codemirror_mode": {
    "name": "ipython",
    "version": 3
   },
   "file_extension": ".py",
   "mimetype": "text/x-python",
   "name": "python",
   "nbconvert_exporter": "python",
   "pygments_lexer": "ipython3",
   "version": "3.11.5"
  }
 },
 "nbformat": 4,
 "nbformat_minor": 2
}
