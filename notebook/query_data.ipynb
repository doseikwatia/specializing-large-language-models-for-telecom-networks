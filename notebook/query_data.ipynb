{
 "cells": [
  {
   "cell_type": "code",
   "execution_count": 1,
   "metadata": {},
   "outputs": [],
   "source": [
    "%load_ext autoreload\n",
    "%autoreload 2"
   ]
  },
  {
   "cell_type": "code",
   "execution_count": 2,
   "metadata": {},
   "outputs": [],
   "source": [
    "import os\n",
    "import os.path as osp\n",
    "import sys\n",
    "ROOT_DIR = osp.dirname(os.getcwd())\n",
    "sys.path.append(ROOT_DIR)"
   ]
  },
  {
   "cell_type": "markdown",
   "metadata": {},
   "source": [
    "# Set up models, vectorstore and retriever"
   ]
  },
  {
   "cell_type": "code",
   "execution_count": 3,
   "metadata": {},
   "outputs": [],
   "source": [
    "from langchain_chroma import Chroma\n",
    "from langchain_community.embeddings import GPT4AllEmbeddings\n",
    "from langchain_community.cross_encoders import HuggingFaceCrossEncoder\n",
    "from langchain.retrievers.document_compressors import CrossEncoderReranker\n",
    "from langchain.retrievers import ContextualCompressionRetriever\n",
    "from tqdm import tqdm"
   ]
  },
  {
   "cell_type": "code",
   "execution_count": 4,
   "metadata": {},
   "outputs": [],
   "source": [
    "DOCUMENT_PATH='../data/rel18/'\n",
    "VECTOR_STORE_PATH = '../data/vectorstore/'"
   ]
  },
  {
   "cell_type": "code",
   "execution_count": 5,
   "metadata": {},
   "outputs": [],
   "source": [
    "model_name = \"all-MiniLM-L6-v2.gguf2.f16.gguf\"\n",
    "encode_kwargs = {'allow_download': 'True'}\n",
    "embeddings = GPT4AllEmbeddings(\n",
    "    model_name=model_name,\n",
    "    device='cpu',\n",
    "    gpt4all_kwargs=encode_kwargs\n",
    ")"
   ]
  },
  {
   "cell_type": "code",
   "execution_count": 6,
   "metadata": {},
   "outputs": [],
   "source": [
    "vectorstore = Chroma(persist_directory=VECTOR_STORE_PATH+\"chromadb\", embedding_function=embeddings)"
   ]
  },
  {
   "cell_type": "code",
   "execution_count": 7,
   "metadata": {},
   "outputs": [
    {
     "data": {
      "text/plain": [
       "{'ids': ['00000a5c-dc75-47d5-83c5-4763f5cf0ef1'],\n",
       " 'embeddings': None,\n",
       " 'metadatas': [{'source': '../data/rel18/28550-i30.docx'}],\n",
       " 'documents': ['The Performance Data Stream Units are described using ASN.1 as specified in ITU-T Rec. X.680 [15] and X.681 [16]. Transfer syntax for Performance Data Stream Units is derived from their ASN.1 definitions by use of Packed Encoding Rules (PER), aligned as'],\n",
       " 'uris': None,\n",
       " 'data': None}"
      ]
     },
     "execution_count": 7,
     "metadata": {},
     "output_type": "execute_result"
    }
   ],
   "source": [
    "vectorstore._collection.get(limit=1)"
   ]
  },
  {
   "cell_type": "code",
   "execution_count": 8,
   "metadata": {},
   "outputs": [
    {
     "name": "stderr",
     "output_type": "stream",
     "text": [
      "/home/daniel/anaconda3/envs/yolo/lib/python3.11/site-packages/tqdm/auto.py:21: TqdmWarning: IProgress not found. Please update jupyter and ipywidgets. See https://ipywidgets.readthedocs.io/en/stable/user_install.html\n",
      "  from .autonotebook import tqdm as notebook_tqdm\n"
     ]
    }
   ],
   "source": [
    "from transformers import AutoTokenizer,AutoModelForCausalLM\n",
    "from peft import PeftModel\n",
    "import transformers\n",
    "import torch"
   ]
  },
  {
   "cell_type": "code",
   "execution_count": 9,
   "metadata": {},
   "outputs": [],
   "source": [
    "model = 'microsoft/phi-2'"
   ]
  },
  {
   "cell_type": "code",
   "execution_count": 10,
   "metadata": {},
   "outputs": [
    {
     "name": "stderr",
     "output_type": "stream",
     "text": [
      "Special tokens have been added in the vocabulary, make sure the associated word embeddings are fine-tuned or trained.\n",
      "Loading checkpoint shards: 100%|██████████| 2/2 [00:03<00:00,  1.72s/it]\n"
     ]
    }
   ],
   "source": [
    "tokenizer = AutoTokenizer.from_pretrained(model)\n",
    "model = AutoModelForCausalLM.from_pretrained(model,device_map=\"auto\",)\n",
    "peft_model = PeftModel.from_pretrained(model, '../bin/pretrained/', device_map=\"auto\")"
   ]
  },
  {
   "cell_type": "code",
   "execution_count": 11,
   "metadata": {},
   "outputs": [
    {
     "name": "stderr",
     "output_type": "stream",
     "text": [
      "The model 'PeftModelForCausalLM' is not supported for text-generation. Supported models are ['BartForCausalLM', 'BertLMHeadModel', 'BertGenerationDecoder', 'BigBirdForCausalLM', 'BigBirdPegasusForCausalLM', 'BioGptForCausalLM', 'BlenderbotForCausalLM', 'BlenderbotSmallForCausalLM', 'BloomForCausalLM', 'CamembertForCausalLM', 'LlamaForCausalLM', 'CodeGenForCausalLM', 'CohereForCausalLM', 'CpmAntForCausalLM', 'CTRLLMHeadModel', 'Data2VecTextForCausalLM', 'DbrxForCausalLM', 'ElectraForCausalLM', 'ErnieForCausalLM', 'FalconForCausalLM', 'FuyuForCausalLM', 'GemmaForCausalLM', 'GitForCausalLM', 'GPT2LMHeadModel', 'GPT2LMHeadModel', 'GPTBigCodeForCausalLM', 'GPTNeoForCausalLM', 'GPTNeoXForCausalLM', 'GPTNeoXJapaneseForCausalLM', 'GPTJForCausalLM', 'JambaForCausalLM', 'JetMoeForCausalLM', 'LlamaForCausalLM', 'MambaForCausalLM', 'MarianForCausalLM', 'MBartForCausalLM', 'MegaForCausalLM', 'MegatronBertForCausalLM', 'MistralForCausalLM', 'MixtralForCausalLM', 'MptForCausalLM', 'MusicgenForCausalLM', 'MusicgenMelodyForCausalLM', 'MvpForCausalLM', 'OlmoForCausalLM', 'OpenLlamaForCausalLM', 'OpenAIGPTLMHeadModel', 'OPTForCausalLM', 'PegasusForCausalLM', 'PersimmonForCausalLM', 'PhiForCausalLM', 'Phi3ForCausalLM', 'PLBartForCausalLM', 'ProphetNetForCausalLM', 'QDQBertLMHeadModel', 'Qwen2ForCausalLM', 'Qwen2MoeForCausalLM', 'RecurrentGemmaForCausalLM', 'ReformerModelWithLMHead', 'RemBertForCausalLM', 'RobertaForCausalLM', 'RobertaPreLayerNormForCausalLM', 'RoCBertForCausalLM', 'RoFormerForCausalLM', 'RwkvForCausalLM', 'Speech2Text2ForCausalLM', 'StableLmForCausalLM', 'Starcoder2ForCausalLM', 'TransfoXLLMHeadModel', 'TrOCRForCausalLM', 'WhisperForCausalLM', 'XGLMForCausalLM', 'XLMWithLMHeadModel', 'XLMProphetNetForCausalLM', 'XLMRobertaForCausalLM', 'XLMRobertaXLForCausalLM', 'XLNetLMHeadModel', 'XmodForCausalLM'].\n"
     ]
    }
   ],
   "source": [
    "answer_generator = transformers.pipeline(\n",
    "    \"text-generation\",\n",
    "    model=peft_model,\n",
    "    tokenizer=tokenizer,\n",
    "    torch_dtype=torch.bfloat16,\n",
    "    device_map=\"auto\",\n",
    ")"
   ]
  },
  {
   "cell_type": "code",
   "execution_count": 12,
   "metadata": {},
   "outputs": [
    {
     "name": "stderr",
     "output_type": "stream",
     "text": [
      "/home/daniel/anaconda3/envs/yolo/lib/python3.11/site-packages/huggingface_hub/file_download.py:1132: FutureWarning: `resume_download` is deprecated and will be removed in version 1.0.0. Downloads always resume when possible. If you want to force a new download, use `force_download=True`.\n",
      "  warnings.warn(\n"
     ]
    }
   ],
   "source": [
    "rerank_model = HuggingFaceCrossEncoder(model_name=\"BAAI/bge-reranker-base\")"
   ]
  },
  {
   "cell_type": "code",
   "execution_count": 13,
   "metadata": {},
   "outputs": [],
   "source": [
    "retriever = vectorstore.as_retriever(\n",
    "    search_type=\"similarity\",\n",
    "    search_kwargs={'k': 20}\n",
    ")\n",
    "compressor = CrossEncoderReranker(model=rerank_model, top_n=10)\n",
    "compression_retriever = ContextualCompressionRetriever(\n",
    "    base_compressor=compressor, base_retriever=retriever\n",
    ")"
   ]
  },
  {
   "cell_type": "markdown",
   "metadata": {},
   "source": [
    "# Inference"
   ]
  },
  {
   "cell_type": "markdown",
   "metadata": {},
   "source": [
    "## Set up question"
   ]
  },
  {
   "cell_type": "code",
   "execution_count": 14,
   "metadata": {},
   "outputs": [],
   "source": [
    "import json\n",
    "with open('../data/TeleQnA_training.txt') as file:\n",
    "    questions = json.load(file)"
   ]
  },
  {
   "cell_type": "code",
   "execution_count": 15,
   "metadata": {},
   "outputs": [],
   "source": [
    "question = questions['question 152']"
   ]
  },
  {
   "cell_type": "markdown",
   "metadata": {},
   "source": [
    "## Get context"
   ]
  },
  {
   "cell_type": "code",
   "execution_count": 16,
   "metadata": {},
   "outputs": [],
   "source": [
    "#context from datastore\n",
    "docs = compression_retriever.invoke(question['question'])\n",
    "context =  (' '.join(list(map(lambda d:d.page_content,docs)))).replace('\\n', '. ')"
   ]
  },
  {
   "cell_type": "code",
   "execution_count": 17,
   "metadata": {},
   "outputs": [],
   "source": [
    "from langchain_core.prompts import PromptTemplate\n",
    "from lib.prompt import get_inference_prompt\n"
   ]
  },
  {
   "cell_type": "code",
   "execution_count": 18,
   "metadata": {},
   "outputs": [],
   "source": [
    "# prompt = qa_prompt.invoke({'question':question['question'],'context':context}).to_string()\n",
    "# print(prompt)\n",
    "# gen_result = answer_generator(prompt,max_new_tokens=256,return_full_text=False)\n",
    "# refined_context = gen_result[0]['generated_text'].replace('\\n','')\n",
    "# refined_context"
   ]
  },
  {
   "cell_type": "code",
   "execution_count": 19,
   "metadata": {},
   "outputs": [],
   "source": [
    "# question['answer']"
   ]
  },
  {
   "cell_type": "code",
   "execution_count": 20,
   "metadata": {},
   "outputs": [
    {
     "data": {
      "text/plain": [
       "{'question': 'What does the Relaxed monitoring for cell reselection feature in NB-IoT allow the UE to do? [3GPP Release 15]',\n",
       " 'option 1': 'Avoid monitoring neighbouring cells for 24 hours in stationary or non-changing network topology',\n",
       " 'option 2': 'Request NPUSCH resources for BSR transmission',\n",
       " 'option 3': 'Reduce system acquisition time for the UE',\n",
       " 'option 4': 'Support small cell deployments with lower maximum transmit power',\n",
       " 'option 5': 'Improve the accuracy of narrowband measurement',\n",
       " 'answer': 'option 1: Avoid monitoring neighbouring cells for 24 hours in stationary or non-changing network topology',\n",
       " 'explanation': 'The Relaxed monitoring for cell reselection feature allows the UE to avoid monitoring neighbouring cells for 24 hours in cases where the UE is stationary and/or the network topology is not changing. This helps to extend UE battery life.',\n",
       " 'category': 'Standards overview'}"
      ]
     },
     "execution_count": 20,
     "metadata": {},
     "output_type": "execute_result"
    }
   ],
   "source": [
    "question"
   ]
  },
  {
   "cell_type": "code",
   "execution_count": 21,
   "metadata": {},
   "outputs": [],
   "source": [
    "prompt = get_inference_prompt(question, context)"
   ]
  },
  {
   "cell_type": "code",
   "execution_count": 22,
   "metadata": {},
   "outputs": [],
   "source": [
    "refined_prompt = prompt['question']\n",
    "answer = prompt['answer']"
   ]
  },
  {
   "cell_type": "code",
   "execution_count": 23,
   "metadata": {},
   "outputs": [
    {
     "name": "stdout",
     "output_type": "stream",
     "text": [
      "### Instructions: \n",
      "Based on only the provided context, select the correct answer from the choices given. Provide your answer in the following format: option Number) Answer. Do not include any additional text or explanation.\n",
      "\n",
      "Context:\n",
      "-\tRelaxed monitoring for cell reselection: When this feature is enabled and the criteria for relaxed monitoring are fulfilled, the UE can reduce its neighbor cell measurements to as seldom as every 24 hours. This can reduce the power consumption In RRC_IDLE, for NB-IoT UEs, when enabled in the cell and the relaxed monitoring criterion is fulfilled, the UE may perform serving cell measurements on the non-anchor paging carrier as specified in TS 36.133 [21]. For NB-IoT, cell reselection identifies the cell that the UE should camp on. It is based on cell reselection criteria which involve measurements of the serving and neighbour cells as follows: -\tCell reselection identifies the cell that the UE should camp on. It is based on cell reselection criteria which involves measurements of the serving and neighbour cells, except for NB-IoT:. . -\tIntra-frequency reselection is based on ranking of cells; not allowed\" after the UE requests access to the NB-IoT, in order to prevent unwanted cell reselection from GERAN, UTRAN, E-UTRAN or NG-RAN to NB-IoT, the UE may: It is optional for UE camped on NTN cell to support triggering of early cell reselection measurements based on the service time broadcasted by the cell as specified in TS 36.304 [14]. This feature is only applicable if the UE supports For NB-IoT UEs, BL UEs or UEs in enhanced coverage, the UE applies the normal cell reselection rules with the following modifications: and NB-IoT. For NB-IoT, the cell broadcasts an indication of support of UE specific DRX for NB-IoT in that cell, and the UE can request UE specific DRX for NB-IoT during Attach and Tracking Area Update procedures irrespective of whether the cell Except for NB-IoT UEs, BL UEs or UEs in enhanced coverage, in RRC_IDLE, the UE applies the normal cell reselection rules with the following modifications: 1>\texcept for NB-IoT, if the idleModeMeasurementReq is included in the UEInformationRequest and the UE has stored VarMeasIdleReport that contains measurement information concerning cells other than the PCell:\n",
      "\n",
      "Question:\n",
      "What does the Relaxed monitoring for cell reselection feature in NB-IoT allow the UE to do? [3GPP Release 15]\n",
      "\n",
      "Choices:\n",
      "option 1) Avoid monitoring neighbouring cells for 24 hours in stationary or non-changing network topology\n",
      "option 2) Request NPUSCH resources for BSR transmission\n",
      "option 3) Reduce system acquisition time for the UE\n",
      "option 4) Support small cell deployments with lower maximum transmit power\n",
      "option 5) Improve the accuracy of narrowband measurement\n",
      "\n",
      "\n",
      "### Answer:\n",
      "\n"
     ]
    }
   ],
   "source": [
    "print(refined_prompt)"
   ]
  },
  {
   "cell_type": "code",
   "execution_count": 24,
   "metadata": {},
   "outputs": [
    {
     "name": "stderr",
     "output_type": "stream",
     "text": [
      "Setting `pad_token_id` to `eos_token_id`:50256 for open-end generation.\n"
     ]
    }
   ],
   "source": [
    "gen_result = answer_generator(refined_prompt,max_new_tokens=128,return_full_text=False,)"
   ]
  },
  {
   "cell_type": "code",
   "execution_count": 25,
   "metadata": {},
   "outputs": [
    {
     "name": "stdout",
     "output_type": "stream",
     "text": [
      "option 1: Avoid monitoring neighbouring cells for 24 hours in stationary or non-changing network topology\n"
     ]
    }
   ],
   "source": [
    "print(answer)"
   ]
  },
  {
   "cell_type": "code",
   "execution_count": 26,
   "metadata": {},
   "outputs": [
    {
     "name": "stdout",
     "output_type": "stream",
     "text": [
      "option 1) Avoid monitoring neighbouring cells for 24 hours in stationary or non-changing network topology\n",
      "\n",
      "### Explanation:\n",
      "The Relaxed monitoring for cell reselection feature in NB-IoT allows the UE to reduce its neighbour cell measurements to as seldom as every 24 hours. This can reduce the power consumption in RRC_IDLE, for NB-IoT UEs, when enabled in the cell and the relaxed monitoring criterion is fulfilled. This feature is only applicable for NB-IoT UEs, BL UEs or UEs in enhanced coverage.\n",
      "\n",
      "### Follow-up Questions:\n",
      "1.\n"
     ]
    }
   ],
   "source": [
    "print(gen_result[0]['generated_text'])"
   ]
  }
 ],
 "metadata": {
  "kernelspec": {
   "display_name": "yolo",
   "language": "python",
   "name": "yolo"
  },
  "language_info": {
   "codemirror_mode": {
    "name": "ipython",
    "version": 3
   },
   "file_extension": ".py",
   "mimetype": "text/x-python",
   "name": "python",
   "nbconvert_exporter": "python",
   "pygments_lexer": "ipython3",
   "version": "3.11.5"
  }
 },
 "nbformat": 4,
 "nbformat_minor": 2
}
